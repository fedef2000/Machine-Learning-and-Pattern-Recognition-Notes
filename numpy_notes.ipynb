{
 "cells": [
  {
   "cell_type": "code",
   "execution_count": 2,
   "metadata": {},
   "outputs": [],
   "source": [
    "import numpy as np"
   ]
  },
  {
   "cell_type": "markdown",
   "metadata": {},
   "source": [
    "# Basics"
   ]
  },
  {
   "cell_type": "code",
   "execution_count": null,
   "metadata": {},
   "outputs": [
    {
     "data": {
      "text/plain": [
       "array([[ 0,  1,  2,  3],\n",
       "       [ 0,  1,  2,  3],\n",
       "       [ 8,  9, 10, 11]])"
      ]
     },
     "execution_count": 42,
     "metadata": {},
     "output_type": "execute_result"
    }
   ],
   "source": [
    "#linspace\n",
    "x = np.linspace(10, 20, 5) # (start, stop, number of intervals) to obtain the elements add (stop-start)/(num-1)\n",
    "\n",
    "#matrix multiplication\n",
    "x = np.array([[1,2], [3,4], [5,6]])\n",
    "y = np.array([[1,2,3], [4,5,6]])\n",
    "np.dot(x, y) # matrix multiplication = first row is 1*(1,2,3)+2*(4,5,6), second row is 3*(1,2,3)+4*(4,5,6)\n",
    "x@y\n",
    "\n",
    "#reshape to column or row vectors \n",
    "x = np.arange(3)\n",
    "x.reshape((1, x.size)) #row vector\n",
    "x.reshape((x.size, 1)) #column vector\n",
    "\n",
    "x.ravel() #reshape to one dimensional array\n",
    "#Pay attention that 1-dimensional arrays (shape (n,)) are NOT row vectors (shape (1, n))\n",
    "\n",
    "#reduce functions\n",
    "#iterate over array as it was one dimensional\n",
    "x= np.array([[1,2,3], [1,2,3]])\n",
    "\n",
    "x.sum()\n",
    "# can also iterate over one axis\n",
    "#0=rows, each row collapse into the final result each\n",
    "x.sum(0) # [2,4,6]\n",
    "x.sum(1) # [6,6]\n"
   ]
  },
  {
   "cell_type": "markdown",
   "metadata": {},
   "source": [
    "# Slicing"
   ]
  },
  {
   "cell_type": "code",
   "execution_count": null,
   "metadata": {},
   "outputs": [],
   "source": [
    "# Multidimensional arrays allow can be sliced in each axis\n",
    "\n",
    "x = np.arange(15).reshape(3,5)\n",
    "#[\n",
    "#[ 0, 1, 2, 3, 4],\n",
    "#[ 5, 6, 7, 8, 9],\n",
    "#[10, 11, 12, 13, 14]\n",
    "#]\n",
    "x[1, 0:3]\n",
    "# [5, 6, 7]\n",
    "\n",
    "# If we want a 1-row matrix, we have to specify also the end of the\n",
    "x[1:2, 0:3]\n",
    "# [[5, 6, 7]]\n",
    "# columns matrix\n",
    "x[0:3, 0:1]\n",
    "\n",
    "# Numpy allows for advanced indexing: we can use numpy integer arrays and boolean\n",
    "\n",
    "#integer index represents which elements to take\n",
    "x = np.arange(12).reshape(3,4) \n",
    "#[[ 0  1  2  3]\n",
    "#[ 4  5  6  7]\n",
    "#[ 8  9 10 11]]\n",
    "idx = np.array([0, 0, 2])\n",
    "x[idx, :]\n",
    "# [[ 0,  1,  2,  3],\n",
    "# [ 0,  1,  2,  3],\n",
    "# [ 8,  9, 10, 11]]\n",
    "\n",
    "# boolean indexing is like a mask\n"
   ]
  },
  {
   "cell_type": "markdown",
   "metadata": {},
   "source": [
    "# Broadcasting\n",
    "\n",
    "+ 1’s will be prepended to the shapes of smaller arrays until\n",
    "all arrays have the same number of dimensions\n",
    "+ Axes with shape 1 are treated as if they had the same dimension as the array with largest size along the axis, and\n",
    "all elements were the same along the axis"
   ]
  },
  {
   "cell_type": "code",
   "execution_count": null,
   "metadata": {},
   "outputs": [],
   "source": []
  },
  {
   "cell_type": "code",
   "execution_count": 43,
   "metadata": {},
   "outputs": [
    {
     "name": "stdout",
     "output_type": "stream",
     "text": [
      "[[0.2        0.8       ]\n",
      " [0.33333333 0.66666667]]\n"
     ]
    }
   ],
   "source": [
    "\n",
    "#### es 7a\n",
    "def f(m,n):\n",
    "    M = np.ones((m, n))\n",
    "    x = np.arange(m).reshape((m,1))\n",
    "    y = np.arange(n).reshape((1,n))\n",
    "    print(M)\n",
    "    print(x)\n",
    "    print(y)\n",
    "    M = M * x\n",
    "    print(M)\n",
    "    M = M * y\n",
    "    return M\n",
    "    \n",
    "    #return np.fromfunction(lambda i, j: i * j, (m, n), dtype=np.float64)\n",
    "\n",
    "    \"\"\"\n",
    "    \n",
    "    \"\"\"\n",
    "#print(f(3,3))\n",
    "\n",
    "#### es 7b\n",
    "\n",
    "def f2(arr):\n",
    "    return arr/arr.sum(0)\n",
    "\n",
    "#print(f2(np.array([[1, 8], [1, 2]])))\n",
    "\n",
    "def f3(arr):\n",
    "    return arr/arr.sum(1).reshape((arr.shape[1], 1))\n",
    "\n",
    "print(f3(np.array([[2, 8], [1, 2]])))"
   ]
  }
 ],
 "metadata": {
  "kernelspec": {
   "display_name": "venv",
   "language": "python",
   "name": "python3"
  },
  "language_info": {
   "codemirror_mode": {
    "name": "ipython",
    "version": 3
   },
   "file_extension": ".py",
   "mimetype": "text/x-python",
   "name": "python",
   "nbconvert_exporter": "python",
   "pygments_lexer": "ipython3",
   "version": "3.13.2"
  }
 },
 "nbformat": 4,
 "nbformat_minor": 2
}
